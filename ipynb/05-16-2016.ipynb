{
 "cells": [
  {
   "cell_type": "code",
   "execution_count": 1,
   "metadata": {
    "collapsed": true
   },
   "outputs": [],
   "source": [
    "import numpy as np"
   ]
  },
  {
   "cell_type": "markdown",
   "metadata": {},
   "source": [
    "## May 16 2016 to ~"
   ]
  },
  {
   "cell_type": "markdown",
   "metadata": {},
   "source": [
    "Very important discovery here:\n",
    "\n",
    "The unitary transformation was in fact used in a paper by Kneller (Monte Carlo Neutrino Oscillations). Should review the paper soon. Didn't notice this before.\n",
    "\n",
    "I probably read the paper before and had some memory about it then applied to stimulated neutrino oscillations."
   ]
  },
  {
   "cell_type": "markdown",
   "metadata": {},
   "source": [
    "For linear background matter profile the system can be solved and ${}_1 F_1(a;b;z)$ is involved."
   ]
  },
  {
   "cell_type": "markdown",
   "metadata": {},
   "source": [
    "### May 16"
   ]
  },
  {
   "cell_type": "markdown",
   "metadata": {},
   "source": [
    "For notes check the [`neutrino-researching`](https://github.com/emptymalei/neutrino-researching) branch."
   ]
  },
  {
   "cell_type": "markdown",
   "metadata": {
    "collapsed": true
   },
   "source": [
    "### May 17"
   ]
  },
  {
   "cell_type": "markdown",
   "metadata": {},
   "source": [
    "<span style=\"color:red;\">After messing arround Mathematica solver, I think I really need a python solver now.</span>"
   ]
  },
  {
   "cell_type": "markdown",
   "metadata": {},
   "source": [
    "What to do:\n",
    "\n",
    "1. For two frequencies case, calculate the amplitude with a changing k;\n",
    "2. For the linear profile, find out what exactly are the resonances. (Modified MSW resonance?)"
   ]
  },
  {
   "cell_type": "markdown",
   "metadata": {},
   "source": [
    "### May 18"
   ]
  },
  {
   "cell_type": "markdown",
   "metadata": {},
   "source": [
    "Rewrite the program into a new package [neumat.wl](https://github.com/NeuPhysics/neupackage/)\n",
    "\n",
    "Now [neutrino.wl](https://github.com/NeuPhysics/neupackage/) package is only responsible for some basic functions but [neumat.wl](https://github.com/NeuPhysics/neupackage/) is for the calculation of stimulated matter effect/parametric matter effect."
   ]
  },
  {
   "cell_type": "markdown",
   "metadata": {},
   "source": [
    "For only one frequency\n",
    "![](assets/05-16-2016/resonance-one-k-amp-0-2.png)"
   ]
  },
  {
   "cell_type": "markdown",
   "metadata": {},
   "source": [
    "![](assets/05-16-2016/resonance-two-k-amp-k1-0point5-k2-0-1-point-1.png)"
   ]
  },
  {
   "cell_type": "markdown",
   "metadata": {},
   "source": [
    "![](assets/05-16-2016/resonance-two-k-amp-k1-1-k2-0-1-point-1.png)"
   ]
  },
  {
   "cell_type": "markdown",
   "metadata": {},
   "source": [
    "In a smaller range"
   ]
  },
  {
   "cell_type": "markdown",
   "metadata": {},
   "source": [
    "![](assets/05-16-2016/resonance-one-k-amp-0-2-range-20000.png)"
   ]
  },
  {
   "cell_type": "markdown",
   "metadata": {
    "collapsed": true
   },
   "source": [
    "![](assets/05-16-2016/resonance-two-k-amp-k1-0point5-k2-0-1-point-1-range-20000.png)"
   ]
  },
  {
   "cell_type": "markdown",
   "metadata": {},
   "source": [
    "![](assets/05-16-2016/resonance-two-k-amp-k1-1-k2-0-1-point-1-range-20000.png)"
   ]
  },
  {
   "cell_type": "markdown",
   "metadata": {
    "collapsed": true
   },
   "source": [
    "### May 19"
   ]
  },
  {
   "cell_type": "markdown",
   "metadata": {},
   "source": [
    "Revise the figure:\n",
    "    1. Added gridlines;"
   ]
  },
  {
   "cell_type": "markdown",
   "metadata": {},
   "source": [
    "Discussion on Group Meeting:\n",
    "\n",
    "1. Find out why the \"Transition Amplitude\" drops as k2 becomes smaller, on a small x range.\n",
    "2. Is is true that the transition oscillation wavelength is becoming much larger if we add a new small k?\n",
    "3. Kelly's paper: reproduce the destruction phenomenon using two frequencies, according to their profile.\n",
    "4. In the last figure up there, we have the desctruction arround $k2=1$, why\n",
    "5. Do the calculations for low density profile/just do 3."
   ]
  },
  {
   "cell_type": "markdown",
   "metadata": {},
   "source": [
    "### May 20"
   ]
  },
  {
   "cell_type": "markdown",
   "metadata": {},
   "source": [
    "`10.1103/PhysRevD.89.073022`:\n",
    "\n",
    "They claim:\n",
    "\n",
    "1. can identify largest wave numbers which cause significant distrotion (modes that has very small width) by look at zeros of bessel functions (P5)\n",
    "2. long wavelength modes dominate the effect"
   ]
  },
  {
   "cell_type": "markdown",
   "metadata": {},
   "source": [
    "#### Reproduce the \"desctruction effect\""
   ]
  },
  {
   "cell_type": "markdown",
   "metadata": {},
   "source": [
    "`10.1103/PhysRevD.89.073022`:\n",
    "\n",
    "1. Long wavelength cutoff: $~3000$km (kind of reasonable)\n",
    "2. Spectral index $\\alpha=5/3$\n",
    "3. average background matter density $0.5\\lambda_{\\mathrm{MSW}}$\n",
    "\n",
    "They are using $\\delta m^2 \\sim 3\\times 10^{-3}\\mathrm{eV}^2$ and $\\sin 2\\theta_v \\sim 0.3$ but I don't think this effect is very sensitive on them. So I'll keep mine: $\\delta m^2 \\sim 2.6\\times 10^{-3}\\mathrm{eV}^2$ and $\\sin 2\\theta_v \\sim 0.305$.\n",
    "\n"
   ]
  },
  {
   "cell_type": "markdown",
   "metadata": {},
   "source": []
  }
 ],
 "metadata": {
  "kernelspec": {
   "display_name": "Python 2",
   "language": "python",
   "name": "python2"
  },
  "language_info": {
   "codemirror_mode": {
    "name": "ipython",
    "version": 2
   },
   "file_extension": ".py",
   "mimetype": "text/x-python",
   "name": "python",
   "nbconvert_exporter": "python",
   "pygments_lexer": "ipython2",
   "version": "2.7.10"
  }
 },
 "nbformat": 4,
 "nbformat_minor": 0
}
