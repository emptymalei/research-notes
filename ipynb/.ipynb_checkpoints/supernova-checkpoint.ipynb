{
 "cells": [
  {
   "cell_type": "code",
   "execution_count": 1,
   "metadata": {
    "collapsed": false,
    "scrolled": true
   },
   "outputs": [
    {
     "name": "stdout",
     "output_type": "stream",
     "text": [
      "matter\n",
      "├── assets\n",
      "│   ├── probtran-1e8.npy\n",
      "│   ├── probtran-1e9-cal-step-10.npy\n",
      "│   ├── probtrans-test-1e7-20160617-125024.csv\n",
      "│   ├── probtrans-test-1e7-20160617-125839.csv\n",
      "│   ├── probtrans-test-1e7-20160617-130223.csv\n",
      "│   ├── probtrans-test-1e7-20160617-130930.csv\n",
      "│   ├── probtrans-test-20160611-175800.csv\n",
      "│   ├── probtrans-test-20160616-154337.csv\n",
      "│   ├── probtrans-test-20160617-111241.csv\n",
      "│   └── probtrans-test-20160617-111319.csv\n",
      "├── nohup.out\n",
      "├── probtrans-test-20160611-175616.csv\n",
      "├── save-data-on-site-1e9-both-probabilities.py\n",
      "├── save-data-on-site-1e9.py\n",
      "├── save-data-on-site-jacobian-1e9-both-probabilities.py\n",
      "├── save-data-on-site-jacobian-adms-1e7-both-probabilities.py\n",
      "├── two-freq-trans-prob-1e8-step-1.py\n",
      "└── two-freq-trans-prob-1e9.py\n",
      "\n",
      "1 directory, 18 files\n"
     ]
    }
   ],
   "source": [
    "%%bash\n",
    "tree matter"
   ]
  },
  {
   "cell_type": "code",
   "execution_count": null,
   "metadata": {
    "collapsed": false
   },
   "outputs": [],
   "source": [
    "%matplotlib inline\n",
    "\n",
    "import numpy as np\n",
    "from scipy.integrate import odeint\n",
    "from scipy.integrate import ode\n",
    "import matplotlib.pylab as plt\n",
    "import csv\n",
    "import time\n",
    "\n",
    "# Template for reading the csv file\n",
    "# Ploting using data file\n",
    "\n",
    "# probsavefromfile = np.loadtxt(\"probtrans-test-\"+timestampstr+\".csv\")\n",
    "probsavefromfile = np.loadtxt(\"matter/assets/probtrans-test-20160617-111319.csv\")#probtrans-test-20160617-111319.csv\") #probtrans-test-20160616-154337.csv\")\n",
    "# print test\n",
    "# print len(test[1::2]), test[1::2], len(test[::2]), test[::2]\n",
    "\n",
    "\n",
    "plt.figure(figsize=(18,13))\n",
    "\n",
    "plt.plot(probsavefromfile[::3], probsavefromfile[1::3],'-')\n",
    "plt.title(\"Probabilities\",fontsize=20)\n",
    "plt.xlabel(\"$\\hat x$\",fontsize=20)\n",
    "plt.ylabel(\"Probability\",fontsize=20)\n",
    "plt.show()\n",
    "\n",
    "plt.figure(figsize=(18,13))\n",
    "\n",
    "plt.plot(probsavefromfile[::3], probsavefromfile[2::3],'-')\n",
    "plt.title(\"Probabilities\",fontsize=20)\n",
    "plt.xlabel(\"$\\hat x$\",fontsize=20)\n",
    "plt.ylabel(\"Probability\",fontsize=20)\n",
    "plt.show()"
   ]
  },
  {
   "cell_type": "code",
   "execution_count": null,
   "metadata": {
    "collapsed": true
   },
   "outputs": [],
   "source": []
  }
 ],
 "metadata": {
  "kernelspec": {
   "display_name": "Python2@Supernova",
   "language": "python",
   "name": "template"
  },
  "language_info": {
   "codemirror_mode": {
    "name": "ipython",
    "version": 2
   },
   "file_extension": ".py",
   "mimetype": "text/x-python",
   "name": "python",
   "nbconvert_exporter": "python",
   "pygments_lexer": "ipython2",
   "version": "2.7.11"
  }
 },
 "nbformat": 4,
 "nbformat_minor": 0
}
