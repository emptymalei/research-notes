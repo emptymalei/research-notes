{
 "cells": [
  {
   "cell_type": "code",
   "execution_count": 1,
   "metadata": {
    "collapsed": false
   },
   "outputs": [
    {
     "name": "stdout",
     "output_type": "stream",
     "text": [
      "anaconda\n",
      "aNN\n",
      "Desktop\n",
      "Documents\n",
      "Downloads\n",
      "git\n",
      "github\n",
      "linux-dash\n",
      "matter\n",
      "Music\n",
      "Pictures\n",
      "Public\n",
      "ss\n",
      "Templates\n",
      "test\n",
      "Videos\n"
     ]
    }
   ],
   "source": [
    "%%bash\n",
    "ls"
   ]
  },
  {
   "cell_type": "code",
   "execution_count": 4,
   "metadata": {
    "collapsed": false
   },
   "outputs": [
    {
     "name": "stdout",
     "output_type": "stream",
     "text": [
      " 1570 ?        Ssl    0:24 NetworkManager\r\n",
      "16425 pts/9    Rl   268:55 python two-freq-trans-prob-1e8.py\r\n",
      "16456 pts/9    Rl   267:37 python two-freq-trans-prob-1e9.py\r\n",
      "16791 pts/13   Ss+    0:00 /bin/sh -c ps -ax | grep two\r\n",
      "16793 pts/13   S+     0:00 grep two\r\n"
     ]
    }
   ],
   "source": [
    "!ps -ax | grep two"
   ]
  },
  {
   "cell_type": "code",
   "execution_count": null,
   "metadata": {
    "collapsed": true
   },
   "outputs": [],
   "source": []
  }
 ],
 "metadata": {
  "kernelspec": {
   "display_name": "Python2@Supernova",
   "language": "python",
   "name": "template"
  },
  "language_info": {
   "codemirror_mode": {
    "name": "ipython",
    "version": 2
   },
   "file_extension": ".py",
   "mimetype": "text/x-python",
   "name": "python",
   "nbconvert_exporter": "python",
   "pygments_lexer": "ipython2",
   "version": "2.7.11"
  }
 },
 "nbformat": 4,
 "nbformat_minor": 0
}
