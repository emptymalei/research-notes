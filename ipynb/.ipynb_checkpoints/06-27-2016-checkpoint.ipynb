{
 "cells": [
  {
   "cell_type": "markdown",
   "metadata": {},
   "source": [
    "## June 27 ~"
   ]
  },
  {
   "cell_type": "markdown",
   "metadata": {},
   "source": [
    "### June 27"
   ]
  },
  {
   "cell_type": "markdown",
   "metadata": {},
   "source": [
    "For the system\n",
    "\n",
    "$$\n",
    "i \\frac{d}{dx} \\Psi = H \\Psi,\n",
    "$$\n",
    "\n",
    "where\n",
    "\n",
    "$$\n",
    "H = \\begin{pmatrix}\n",
    "0 & h1 + h2 e^{i \\phi x} \\\\\n",
    "h1 + h2 e^{-i \\phi x} & 0\n",
    "\\end{pmatrix}\n",
    "$$\n",
    "\n",
    "I can't solve that even with first order Taylor expansion over $h1/h2\\ll 1$"
   ]
  },
  {
   "cell_type": "markdown",
   "metadata": {},
   "source": [
    "Using what Prof. Duan proposed, I could explain part of the reason why it will be destroyed. Please check the `researching notes`."
   ]
  },
  {
   "cell_type": "markdown",
   "metadata": {
    "collapsed": true
   },
   "source": [
    "### June 28"
   ]
  },
  {
   "cell_type": "markdown",
   "metadata": {},
   "source": [
    "What to do?\n",
    "\n",
    "1. Recalculate the destruction phenomena using new parameters"
   ]
  },
  {
   "cell_type": "markdown",
   "metadata": {},
   "source": [
    "![](assets/06-27-2016/second-freq-as-bg-varying-ration-k2-A2.png)"
   ]
  },
  {
   "cell_type": "markdown",
   "metadata": {},
   "source": [
    "![](assets/06-27-2016/second-freq-as-bg-1-divided-10-10-20-30-100-1000-10000-matter-density.png)"
   ]
  },
  {
   "cell_type": "markdown",
   "metadata": {},
   "source": [
    "![](assets/06-27-2016/second-freq-as-bg-1-divided-10-10-20-30-100-1000-10000-log.png)\n",
    "![](assets/06-27-2016/second-freq-as-bg-1-divided-10-10-20-30-100-1000-log.png)\n",
    "![](assets/06-27-2016/second-freq-as-bg-1-divided-10-10-20-30.png)\n",
    "![](assets/06-27-2016/second-freq-as-bg-1-divided-10-100-1000.png)\n",
    "![](assets/06-27-2016/second-freq-as-bg-1-divided-10-1000.png)"
   ]
  },
  {
   "cell_type": "markdown",
   "metadata": {},
   "source": [
    "### June 29"
   ]
  },
  {
   "cell_type": "markdown",
   "metadata": {},
   "source": [
    "The question is then, will this new frequency actually destroy the \n",
    "\n",
    "![](assets/06-27-2016/second-freq-as-bg-1-divided-10-10-20-30-100-1000-10000-full-numerical.png)"
   ]
  },
  {
   "cell_type": "markdown",
   "metadata": {},
   "source": [
    "![](assets/06-27-2016/second-freq-as-bg-1-d-10-1-d-6000-1-d-7000-100-full-numerical-with-10-mode.png)\n",
    "![](assets/06-27-2016/second-freq-as-bg-1-d-10-1-d-6000-1-d-7000-1-d-10000-100-full-numerical-with-10-mode.png)\n",
    "![](assets/06-27-2016/second-freq-as-bg-1-d-10-1-d-6000-1-d-7000-1-d-10000-1000-full-numerical-with-10-mode.png)"
   ]
  },
  {
   "cell_type": "markdown",
   "metadata": {
    "collapsed": true
   },
   "source": [
    "### June 30"
   ]
  },
  {
   "cell_type": "markdown",
   "metadata": {},
   "source": [
    "The gridlines are the zero points of the second matter profile"
   ]
  },
  {
   "cell_type": "markdown",
   "metadata": {},
   "source": [
    "![](assets/06-27-2016/second-freq-as-bg-1-d-10-1-d-1000-1-d-10000-1-d-200000-1000-full-numerical-with-10-mode-with-gridlines.png)\n",
    "![](assets/06-27-2016/second-freq-as-bg-1-d-10-1-d-1000-1-d-10000-1-d-200000-1000-full-numerical-with-10-mode-with-gridlines-2.png)"
   ]
  },
  {
   "cell_type": "markdown",
   "metadata": {},
   "source": [
    "![](assets/06-27-2016/second-freq-as-bg-1-d-10-1-d-5000-1-d-7000-1-d-10000-100-full-numerical-with-10-mode-gridlines.png)\n",
    "![](assets/06-27-2016/second-freq-as-bg-1-d-10-1-d-5000-1-d-7000-1-d-10000-100-full-numerical-with-10-mode-gridlines-2.png)\n",
    "![](assets/06-27-2016/second-freq-as-bg-1-d-10-1-d-5000-1-d-7000-1-d-10000-100-full-numerical-with-10-mode-gridlines-3.png)\n"
   ]
  },
  {
   "cell_type": "markdown",
   "metadata": {},
   "source": [
    "![](assets/06-27-2016/second-freq-as-bg-1-d-10-1-d-1000-1-d-10000-1-d-200000-1000-full-numerical-with-10-mode-total-prob.png)"
   ]
  },
  {
   "cell_type": "markdown",
   "metadata": {},
   "source": [
    "![](assets/06-27-2016/second-freq-as-bg-1-d-10-1-d-200000-1000-full-numerical-with-10-mode-small-range-1.5-machineprecision.png)\n",
    "![](assets/06-27-2016/second-freq-as-bg-1-d-10-1-d-200000-1000-full-numerical-with-10-mode-small-range-total-prob-1.5-machineprecision.png)"
   ]
  }
 ],
 "metadata": {
  "kernelspec": {
   "display_name": "Python 2",
   "language": "python",
   "name": "python2"
  },
  "language_info": {
   "codemirror_mode": {
    "name": "ipython",
    "version": 2
   },
   "file_extension": ".py",
   "mimetype": "text/x-python",
   "name": "python",
   "nbconvert_exporter": "python",
   "pygments_lexer": "ipython2",
   "version": "2.7.11"
  }
 },
 "nbformat": 4,
 "nbformat_minor": 0
}
