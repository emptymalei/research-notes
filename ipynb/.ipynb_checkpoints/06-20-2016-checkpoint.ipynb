{
 "cells": [
  {
   "cell_type": "markdown",
   "metadata": {},
   "source": [
    "## June 20 ~"
   ]
  },
  {
   "cell_type": "code",
   "execution_count": 6,
   "metadata": {
    "collapsed": false
   },
   "outputs": [
    {
     "name": "stdout",
     "output_type": "stream",
     "text": [
      "assets/06-20-2016\n",
      "├── compare-odeint-and-ode-prob0-range-1000.png\n",
      "├── compare-odeint-and-ode-prob0-range-10000.png\n",
      "├── compare-odeint-and-ode-prob0-range-100000.png\n",
      "├── compare-odeint-and-ode-prob1-range-1000.png\n",
      "├── compare-odeint-and-ode-prob1-range-10000.png\n",
      "├── compare-odeint-and-ode-prob1-range-100000.png\n",
      "├── two-freq-real-ize-prob0-1000000-1.0-1e-10.png\n",
      "├── two-freq-real-ize-prob0-1000000-1.0.png\n",
      "├── two-freq-real-ize-prob0-10000000-1.0.png\n",
      "├── two-freq-real-ize-prob0-10000000-10.0.png\n",
      "├── two-freq-real-ize-prob0-10000000-100.0.png\n",
      "├── two-freq-real-ize-prob0-100000000-100.0.png\n",
      "├── two-freq-real-ize-prob1-1000000-1.0-1e-10.png\n",
      "├── two-freq-real-ize-prob1-1000000-1.0.png\n",
      "├── two-freq-real-ize-prob1-10000000-100.0.png\n",
      "├── two-freq-real-ize-total-1000000-1.0-1e-10.png\n",
      "├── two-freq-real-ize-total-1000000-1.0.png\n",
      "├── two-freq-real-ize-total-1000000-10.0-1e-09.png\n",
      "├── two-freq-real-ize-total-1000000-step-1-rtol-vary-comparison.png\n",
      "├── two-freq-real-ize-total-1000000-step-10-rtol-vary-comparison.png\n",
      "├── two-freq-real-ize-total-1000000-step-100-rtol-vary-comparison.png\n",
      "├── two-freq-real-ize-total-1000000-step-vary-rtol-1e-10-comparison.png\n",
      "├── two-freq-real-ize-total-1000000-step-vary-rtol-1e-8-comparison.png\n",
      "├── two-freq-real-ize-total-1000000-step-vary-rtol-vary-comparison-more.png\n",
      "├── two-freq-real-ize-total-1000000-step-vary-rtol-vary-comparison.png\n",
      "├── two-freq-real-ize-total-10000000-1.0.png\n",
      "├── two-freq-real-ize-total-10000000-10.0.png\n",
      "├── two-freq-real-ize-total-10000000-100.0.png\n",
      "├── two-freq-real-ize-total-100000000-1.0-1e-10.png\n",
      "└── two-freq-real-ize-total-100000000-100.0.png\n",
      "\n",
      "0 directories, 30 files\n"
     ]
    }
   ],
   "source": [
    "%%bash\n",
    "tree assets/06-20-2016"
   ]
  },
  {
   "cell_type": "markdown",
   "metadata": {},
   "source": [
    "### June 20"
   ]
  },
  {
   "cell_type": "markdown",
   "metadata": {},
   "source": [
    "- [ ] Rewrite code using real diff eq solver\n",
    "- [ ] Write the iteraction by yourself\n",
    "\n",
    "~~I think the oscillations might still be there.~~"
   ]
  },
  {
   "cell_type": "markdown",
   "metadata": {
    "collapsed": true
   },
   "source": [
    "Using `odeint`, I have the following result, without changing any of the default parameters (tol using default)\n",
    "\n",
    "![](assets/06-20-2016/two-freq-real-ize-prob0-1000000-1.0.png)\n",
    "![](assets/06-20-2016/two-freq-real-ize-prob1-1000000-1.0.png)\n",
    "![](assets/06-20-2016/two-freq-real-ize-total-1000000-1.0.png)"
   ]
  },
  {
   "cell_type": "markdown",
   "metadata": {},
   "source": [
    "\n",
    "For a larger range\n",
    "\n",
    "![](assets/06-20-2016/two-freq-real-ize-prob0-10000000-1.0.png)\n",
    "\n",
    "![](assets/06-20-2016/two-freq-real-ize-total-10000000-1.0.png)"
   ]
  },
  {
   "cell_type": "markdown",
   "metadata": {
    "collapsed": true
   },
   "source": [
    "Just for comparison\n",
    "\n",
    "![](assets/06-20-2016/two-freq-real-ize-prob0-10000000-100.0.png)\n",
    "![](assets/06-20-2016/two-freq-real-ize-prob1-10000000-100.0.png)\n",
    "![](assets/06-20-2016/two-freq-real-ize-total-10000000-100.0.png)"
   ]
  },
  {
   "cell_type": "markdown",
   "metadata": {
    "collapsed": true
   },
   "source": [
    "With higher rtol?\n",
    "\n",
    "![](assets/06-20-2016/two-freq-real-ize-prob0-10000000-10.0.png)\n",
    "![](assets/06-20-2016/two-freq-real-ize-total-10000000-10.0.png)"
   ]
  },
  {
   "cell_type": "markdown",
   "metadata": {},
   "source": [
    "![](assets/06-20-2016/two-freq-real-ize-total-100000000-1.0-1e-10.png)"
   ]
  },
  {
   "cell_type": "markdown",
   "metadata": {},
   "source": [
    "1e8 range stepsize 100\n",
    "\n",
    "nohup: ignoring input\n",
    "Integration successful.\n",
    "[ 0.80085766  0.00363102  0.61007053 -0.00786364] 100000000.0\n",
    "\n",
    "\n",
    "![](assets/06-20-2016/two-freq-real-ize-prob0-100000000-100.0.png)\n",
    "![](assets/06-20-2016/two-freq-real-ize-total-100000000-100.0.png)"
   ]
  },
  {
   "cell_type": "markdown",
   "metadata": {},
   "source": [
    "### Jun 21"
   ]
  },
  {
   "cell_type": "markdown",
   "metadata": {},
   "source": [
    "two-freq-real-ize-eq-solver-1e6-stepsize-1-rtol-on.out\n",
    "```\n",
    "nohup: ignoring input\n",
    "Integration successful.\n",
    "[-0.9908992  -0.00179346 -0.13488972  0.00682482] 1000000.0\n",
    "step size is1.0\n",
    "rtol_req is1e-10\n",
    "```\n",
    "\n",
    "From files\n",
    "\n",
    "```\n",
    "two-freq-real-ize-xlin-1000000-1.0-1e-10.npy\n",
    "two-freq-real-ize-prob0-1000000-1.0-1e-10.npy\n",
    "two-freq-real-ize-prob1-1000000-1.0-1e-10.npy\n",
    "```\n",
    "\n",
    "![](assets/06-20-2016/two-freq-real-ize-total-1000000-1.0-1e-10.png)"
   ]
  },
  {
   "cell_type": "markdown",
   "metadata": {},
   "source": [
    "two-freq-real-ize-eq-solver-1e6-stepsize-10-rtol-on.out\n",
    "\n",
    "```\n",
    "nohup: ignoring input\n",
    "Integration successful.\n",
    "[-0.99089818 -0.00179584 -0.13489006  0.00682465] 1000000.0\n",
    "step size is10.0\n",
    "rtol_req is1e-09\n",
    "```\n",
    "\n",
    "two-freq-real-ize-xlin-1000000-10.0-1e-09.npy\n",
    "two-freq-real-ize-prob0-1000000-10.0-1e-09.npy\n",
    "two-freq-real-ize-prob1-1000000-10.0-1e-09.npy\n",
    "\n",
    "![](assets/06-20-2016/two-freq-real-ize-total-1000000-10.0-1e-09.png)"
   ]
  },
  {
   "cell_type": "markdown",
   "metadata": {},
   "source": [
    "How about a comparison\n",
    "\n",
    "![](assets/06-20-2016/two-freq-real-ize-total-1000000-step-vary-rtol-vary-comparison.png)\n",
    "![](assets/06-20-2016/two-freq-real-ize-total-1000000-step-1-rtol-vary-comparison.png)\n",
    "![](assets/06-20-2016/two-freq-real-ize-total-1000000-step-10-rtol-vary-comparison.png)\n",
    "![](assets/06-20-2016/two-freq-real-ize-total-1000000-step-100-rtol-vary-comparison.png)\n",
    "\n",
    "![](assets/06-20-2016/two-freq-real-ize-total-1000000-step-vary-rtol-1e-10-comparison.png)\n",
    "![](assets/06-20-2016/two-freq-real-ize-total-1000000-step-vary-rtol-1e-8-comparison.png)"
   ]
  },
  {
   "cell_type": "markdown",
   "metadata": {
    "collapsed": true
   },
   "source": [
    "WTH? Maybe the code is completely wrong?\n",
    "\n",
    "Check with `scipy.ode` code results\n",
    "\n",
    "![](assets/06-20-2016/compare-odeint-and-ode-prob0-range-1000.png)\n",
    "![](assets/06-20-2016/compare-odeint-and-ode-prob1-range-1000.png)\n",
    "\n",
    "\n",
    "![](assets/06-20-2016/compare-odeint-and-ode-prob0-range-10000.png)\n",
    "![](assets/06-20-2016/compare-odeint-and-ode-prob1-range-10000.png)\n",
    "\n",
    "\n",
    "![](assets/06-20-2016/compare-odeint-and-ode-prob0-range-100000.png)\n",
    "![](assets/06-20-2016/compare-odeint-and-ode-prob1-range-100000.png)"
   ]
  },
  {
   "cell_type": "markdown",
   "metadata": {},
   "source": [
    "can't really distinguish?\n",
    "\n",
    "![](assets/06-20-2016/compare-odeint-and-ode-prob1-range-10000-alt-style.png)"
   ]
  },
  {
   "cell_type": "markdown",
   "metadata": {
    "collapsed": true
   },
   "source": [
    "## June 22"
   ]
  },
  {
   "cell_type": "markdown",
   "metadata": {},
   "source": [
    "After a discussion with Prof. Duan, we think the problem that increasing the `rtol` doesn't work is that this calculation already reached the most precise result that can be reached using double.\n",
    "\n",
    "The figure\n",
    "![](assets/06-20-2016/two-freq-real-ize-total-1000000-step-vary-rtol-vary-comparison-inclue-1e-5.png)\n",
    "\n",
    "is a hint of this: **no accuracy inccrease with increasing rtol starting from 1e-8** but for significantly larger tol 1e-5 we do have a accuracy drop. This figure can not determine the exactly point of rtol that the accuracy is saturated but what is the point of that anyway.\n",
    "\n",
    "Just as a verification, the steps during such a calculation is of the same order of the range, proofs are\n",
    "\n",
    "![](assets/06-20-2016/two-freq-real-ize-total-1000000-step-10-step-size.png)\n",
    "![](assets/06-20-2016/two-freq-real-ize-total-1000000-step-10-accumulated-steps.png)\n",
    "\n",
    "Then we estimate the accumulated error would be\n",
    "\n",
    "$$\\sim 10^{-8(10)}\\times 10^{5}\\sim 10^{-3(5)}$$\n",
    "\n"
   ]
  },
  {
   "cell_type": "markdown",
   "metadata": {},
   "source": [
    "Now we need to use something more accurate: MATHEMATICA!\n",
    "\n",
    "Also IF the resonance is still there, on a range 1e6 would reveal this resonance."
   ]
  },
  {
   "cell_type": "code",
   "execution_count": null,
   "metadata": {
    "collapsed": true
   },
   "outputs": [],
   "source": []
  }
 ],
 "metadata": {
  "kernelspec": {
   "display_name": "Python 2",
   "language": "python",
   "name": "python2"
  },
  "language_info": {
   "codemirror_mode": {
    "name": "ipython",
    "version": 2
   },
   "file_extension": ".py",
   "mimetype": "text/x-python",
   "name": "python",
   "nbconvert_exporter": "python",
   "pygments_lexer": "ipython2",
   "version": "2.7.11"
  }
 },
 "nbformat": 4,
 "nbformat_minor": 0
}
