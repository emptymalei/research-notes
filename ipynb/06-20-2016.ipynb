{
 "cells": [
  {
   "cell_type": "markdown",
   "metadata": {},
   "source": [
    "## June 20 ~"
   ]
  },
  {
   "cell_type": "code",
   "execution_count": 1,
   "metadata": {
    "collapsed": false
   },
   "outputs": [
    {
     "name": "stdout",
     "output_type": "stream",
     "text": [
      "assets/06-20-2016\n",
      "├── two-freq-real-ize-prob0-1000000-1.0.png\n",
      "├── two-freq-real-ize-prob0-10000000-1.0.png\n",
      "├── two-freq-real-ize-prob0-10000000-10.0.png\n",
      "├── two-freq-real-ize-prob0-10000000-100.0.png\n",
      "├── two-freq-real-ize-prob1-1000000-1.0.png\n",
      "├── two-freq-real-ize-prob1-10000000-100.0.png\n",
      "├── two-freq-real-ize-total-1000000-1.0.png\n",
      "├── two-freq-real-ize-total-10000000-1.0.png\n",
      "├── two-freq-real-ize-total-10000000-10.0.png\n",
      "└── two-freq-real-ize-total-10000000-100.0.png\n",
      "\n",
      "0 directories, 10 files\n"
     ]
    }
   ],
   "source": [
    "%%bash\n",
    "tree assets/06-20-2016"
   ]
  },
  {
   "cell_type": "markdown",
   "metadata": {},
   "source": [
    "### June 20"
   ]
  },
  {
   "cell_type": "markdown",
   "metadata": {},
   "source": [
    "- [ ] Rewrite code using real diff eq solver\n",
    "- [ ] Write the iteraction by yourself\n",
    "\n",
    "~~I think the oscillations might still be there.~~"
   ]
  },
  {
   "cell_type": "markdown",
   "metadata": {
    "collapsed": true
   },
   "source": [
    "Using `odeint`, I have the following result, without changing any of the default parameters (tol using default)\n",
    "\n",
    "![](assets/06-20-2016/two-freq-real-ize-prob0-1000000-1.0.png)\n",
    "![](assets/06-20-2016/two-freq-real-ize-prob1-1000000-1.0.png)\n",
    "![](assets/06-20-2016/two-freq-real-ize-total-1000000-1.0.png)"
   ]
  },
  {
   "cell_type": "markdown",
   "metadata": {},
   "source": [
    "\n",
    "For a larger range\n",
    "\n",
    "![](assets/06-20-2016/two-freq-real-ize-prob0-10000000-1.0.png)\n",
    "\n",
    "![](assets/06-20-2016/two-freq-real-ize-total-10000000-1.0.png)"
   ]
  },
  {
   "cell_type": "markdown",
   "metadata": {
    "collapsed": true
   },
   "source": [
    "Just for comparison\n",
    "\n",
    "![](assets/06-20-2016/two-freq-real-ize-prob0-10000000-100.0.png)\n",
    "![](assets/06-20-2016/two-freq-real-ize-prob1-10000000-100.0.png)\n",
    "![](assets/06-20-2016/two-freq-real-ize-total-10000000-100.0.png)"
   ]
  },
  {
   "cell_type": "markdown",
   "metadata": {
    "collapsed": true
   },
   "source": [
    "With higher rtol?\n",
    "\n",
    "![](assets/06-20-2016/two-freq-real-ize-prob0-10000000-10.0.png)\n",
    "![](assets/06-20-2016/two-freq-real-ize-total-10000000-10.0.png)"
   ]
  },
  {
   "cell_type": "code",
   "execution_count": null,
   "metadata": {
    "collapsed": true
   },
   "outputs": [],
   "source": []
  }
 ],
 "metadata": {
  "kernelspec": {
   "display_name": "Python 2",
   "language": "python",
   "name": "python2"
  },
  "language_info": {
   "codemirror_mode": {
    "name": "ipython",
    "version": 2
   },
   "file_extension": ".py",
   "mimetype": "text/x-python",
   "name": "python",
   "nbconvert_exporter": "python",
   "pygments_lexer": "ipython2",
   "version": "2.7.11"
  }
 },
 "nbformat": 4,
 "nbformat_minor": 0
}
